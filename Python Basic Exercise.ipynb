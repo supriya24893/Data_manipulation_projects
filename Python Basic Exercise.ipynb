{
 "cells": [
  {
   "cell_type": "markdown",
   "metadata": {},
   "source": [
    "## Python Basic Programming Exercises"
   ]
  },
  {
   "cell_type": "code",
   "execution_count": 1,
   "metadata": {},
   "outputs": [
    {
     "name": "stdout",
     "output_type": "stream",
     "text": [
      "2002\n",
      "2009\n",
      "2016\n",
      "2023\n",
      "2037\n",
      "2044\n",
      "2051\n",
      "2058\n",
      "2072\n",
      "2079\n",
      "2086\n",
      "2093\n",
      "2107\n",
      "2114\n",
      "2121\n",
      "2128\n",
      "2142\n",
      "2149\n",
      "2156\n",
      "2163\n",
      "2177\n",
      "2184\n",
      "2191\n",
      "2198\n",
      "2212\n",
      "2219\n",
      "2226\n",
      "2233\n",
      "2247\n",
      "2254\n",
      "2261\n",
      "2268\n",
      "2282\n",
      "2289\n",
      "2296\n",
      "2303\n",
      "2317\n",
      "2324\n",
      "2331\n",
      "2338\n",
      "2352\n",
      "2359\n",
      "2366\n",
      "2373\n",
      "2387\n",
      "2394\n",
      "2401\n",
      "2408\n",
      "2422\n",
      "2429\n",
      "2436\n",
      "2443\n",
      "2457\n",
      "2464\n",
      "2471\n",
      "2478\n",
      "2492\n",
      "2499\n",
      "2506\n",
      "2513\n",
      "2527\n",
      "2534\n",
      "2541\n",
      "2548\n",
      "2562\n",
      "2569\n",
      "2576\n",
      "2583\n",
      "2597\n",
      "2604\n",
      "2611\n",
      "2618\n",
      "2632\n",
      "2639\n",
      "2646\n",
      "2653\n",
      "2667\n",
      "2674\n",
      "2681\n",
      "2688\n",
      "2702\n",
      "2709\n",
      "2716\n",
      "2723\n",
      "2737\n",
      "2744\n",
      "2751\n",
      "2758\n",
      "2772\n",
      "2779\n",
      "2786\n",
      "2793\n",
      "2807\n",
      "2814\n",
      "2821\n",
      "2828\n",
      "2842\n",
      "2849\n",
      "2856\n",
      "2863\n",
      "2877\n",
      "2884\n",
      "2891\n",
      "2898\n",
      "2912\n",
      "2919\n",
      "2926\n",
      "2933\n",
      "2947\n",
      "2954\n",
      "2961\n",
      "2968\n",
      "2982\n",
      "2989\n",
      "2996\n",
      "3003\n",
      "3017\n",
      "3024\n",
      "3031\n",
      "3038\n",
      "3052\n",
      "3059\n",
      "3066\n",
      "3073\n",
      "3087\n",
      "3094\n",
      "3101\n",
      "3108\n",
      "3122\n",
      "3129\n",
      "3136\n",
      "3143\n",
      "3157\n",
      "3164\n",
      "3171\n",
      "3178\n",
      "3192\n",
      "3199\n"
     ]
    }
   ],
   "source": [
    "#1: Write a program which will find all such numbers which are divisible by 7 \n",
    "#   but are not a multiple of 5, between 2000 and 3200 (both included).\n",
    "\n",
    "\n",
    "#Hints: Consider use range(#begin, #end) method\n",
    "\n",
    "x=range(2000,3201)\n",
    "for n in x:\n",
    "    if n%7==0 and n%5!=0:\n",
    "        print n"
   ]
  },
  {
   "cell_type": "code",
   "execution_count": null,
   "metadata": {
    "collapsed": true
   },
   "outputs": [],
   "source": []
  },
  {
   "cell_type": "code",
   "execution_count": null,
   "metadata": {},
   "outputs": [
    {
     "name": "stdout",
     "output_type": "stream",
     "text": [
      "how many numbers you want to find factorial of\n"
     ]
    }
   ],
   "source": [
    "#2. Write a program which can compute the factorial of a given numbers. \n",
    "#   The results should be printed in a comma-separated sequence on a single line. \n",
    "# input() function can be used for getting user(console) input\n",
    "# raw_input() for python 2.x\n",
    "\n",
    "#Suppose the input is supplied to the program:  8  \n",
    "#Then, the output should be:  40320 \n",
    "#Hints: In case of input data being supplied to the question, it should be assumed to be a console input. \n",
    "list=[]\n",
    "print(\"how many numbers you want to find factorial of\")\n",
    "n=input()\n",
    "print(\"enter {} numbers:\".format(n))\n",
    "for i in range (0,n):\n",
    "    n=input()\n",
    "    list.append(n)\n",
    "print list\n",
    "list_2=[]\n",
    "for a in range (0,len(list)):\n",
    "    x=list[a]\n",
    "    fact=1\n",
    "    for m in range (1,x+1):\n",
    "        fact=fact*m\n",
    "        m=m+1\n",
    "        \n",
    "    list_2.append(fact)\n",
    "print(\"Factorial of the numbers you asked for is:\")\n",
    "print list_2\n",
    "        \n"
   ]
  },
  {
   "cell_type": "code",
   "execution_count": null,
   "metadata": {
    "collapsed": true
   },
   "outputs": [],
   "source": []
  },
  {
   "cell_type": "code",
   "execution_count": null,
   "metadata": {},
   "outputs": [],
   "source": []
  },
  {
   "cell_type": "raw",
   "metadata": {
    "collapsed": true
   },
   "source": [
    "#3. With a given integral number n, write a program to generate a dictionary that contains (i, i*i) such that is an integral number between 1 and n (both included). and then the program should print the dictionary.\n",
    "#Suppose the following input is supplied to the program: 8\n",
    "#Then, the output should be: {1: 1, 2: 4, 3: 9, 4: 16, 5: 25, 6: 36, 7: 49, 8: 64}\n",
    "#Hints: In case of input data being supplied to the question, it should be assumed to be a console input. Consider use dict()\n",
    "\n",
    "\n"
   ]
  },
  {
   "cell_type": "code",
   "execution_count": 4,
   "metadata": {},
   "outputs": [
    {
     "name": "stdout",
     "output_type": "stream",
     "text": [
      "Enter integral number:\n",
      "4\n",
      "{0: 0, 1: 1, 2: 4, 3: 9}\n"
     ]
    }
   ],
   "source": [
    "print(\"Enter integral number:\")\n",
    "n=input()\n",
    "dict={}\n",
    "for i in range (0,n):\n",
    "    dict[i]=i*i\n",
    "print dict"
   ]
  },
  {
   "cell_type": "code",
   "execution_count": null,
   "metadata": {
    "collapsed": true
   },
   "outputs": [],
   "source": [
    "#4. Write a program which accepts a sequence of comma-separated numbers from console and generate a list and a tuple which contains every number.\n",
    "#Suppose the following input is supplied to the program: 34,67,55,33,12,98\n",
    "    #Then, the output should be: ['34', '67', '55', '33', '12', '98'] ('34', '67', '55', '33', '12', '98')\n",
    "\n",
    "#Hints: In case of input data being supplied to the question, it should be assumed to be a console input. tuple() method can convert list to tuple\n"
   ]
  },
  {
   "cell_type": "code",
   "execution_count": 8,
   "metadata": {},
   "outputs": [
    {
     "name": "stdout",
     "output_type": "stream",
     "text": [
      "Enter number of numbers you want to add in a tuple\n",
      "3\n",
      "now enter the 3 number\n",
      "5\n",
      "6\n",
      "7\n",
      "([5, 6, 7], (5, 6, 7))\n"
     ]
    }
   ],
   "source": [
    "print(\"Enter number of numbers you want to add in a tuple\")\n",
    "n=input()\n",
    "list=[]\n",
    "print(\"now enter the {} numbers\".format(n))\n",
    "for i in range (0,n):\n",
    "    x=input()\n",
    "    list.append(x)\n",
    "print(list,tuple(list))\n"
   ]
  },
  {
   "cell_type": "code",
   "execution_count": null,
   "metadata": {
    "collapsed": true
   },
   "outputs": [],
   "source": [
    "#5. Define a class which has at least two methods: getString: to get a string from console input and \n",
    "#printString: to print the string in upper case. Also please include simple test function to test the class methods.\n",
    "\n",
    "#Hints: Use __init__ method to construct some parameters\n"
   ]
  },
  {
   "cell_type": "code",
   "execution_count": 7,
   "metadata": {},
   "outputs": [
    {
     "name": "stdout",
     "output_type": "stream",
     "text": [
      "hello\n",
      "HELLO\n"
     ]
    }
   ],
   "source": [
    "class instring:\n",
    "    def __init__(self):\n",
    "        self.str =\"\"\n",
    "    def getstring(self):\n",
    "        self.str=input()\n",
    "    def printstr(self):\n",
    "        print (self.str.upper())\n",
    "#self\n",
    "str1=instring()\n",
    "str1.getstring()\n",
    "str1.printstr()\n",
    "        \n"
   ]
  },
  {
   "cell_type": "code",
   "execution_count": null,
   "metadata": {
    "collapsed": true
   },
   "outputs": [],
   "source": [
    "#6. Write a program that accepts a comma separated sequence of words as input and \n",
    "# prints the words in a comma-separated sequence after sorting them alphabetically.\n",
    "\n",
    "# Suppose the following input is supplied to the program: without,hello,bag,world\n",
    "# Then, the output should be: bag,hello,without,world\n",
    "\n",
    "#Hints: In case of input data being supplied to the question, it should be assumed to be a console input.\n"
   ]
  },
  {
   "cell_type": "code",
   "execution_count": 11,
   "metadata": {},
   "outputs": [
    {
     "name": "stdout",
     "output_type": "stream",
     "text": [
      "enter the number of words you want:\n",
      "4\n",
      "enter 4 words\n",
      "red\n",
      "yellow\n",
      "blue\n",
      "pink\n",
      "['red', 'yellow', 'blue', 'pink']\n",
      "Sorted list is:\n",
      "['blue', 'pink', 'red', 'yellow']\n"
     ]
    }
   ],
   "source": [
    "list=[]\n",
    "print(\"enter the number of words you want:\")\n",
    "p=input()\n",
    "print(\"enter {} words\".format(p))\n",
    "for i in range (0,p):\n",
    "    list.append(raw_input())\n",
    "print(list)\n",
    "list.sort()\n",
    "print(\"Sorted list is:\")\n",
    "print(list)"
   ]
  },
  {
   "cell_type": "code",
   "execution_count": null,
   "metadata": {
    "collapsed": true
   },
   "outputs": [],
   "source": [
    "#7. Write a program that accepts a sequence of whitespace separated words \n",
    "# as input and prints the words after removing all duplicate words and sorting them alphanumerically.\n",
    "# Suppose the following input is supplied to the program: hello world and practice makes perfect and hello world again\n",
    "# Then, the output should be: again and hello makes perfect practice world\n",
    "\n",
    "#Hints: In case of input data being supplied to the question, it should be assumed to be a console input.\n",
    "#We use set container to remove duplicated data automatically and then use sorted() to sort the data.\n"
   ]
  },
  {
   "cell_type": "code",
   "execution_count": 22,
   "metadata": {},
   "outputs": [
    {
     "name": "stdout",
     "output_type": "stream",
     "text": [
      "enter sequence of words:red yellow pink yellow\n",
      "pink red yellow\n"
     ]
    }
   ],
   "source": [
    "words_list=raw_input(\"enter sequence of words:\").split(' ')\n",
    "unique=set(words_list)\n",
    "print ' '.join(sorted(unique))\n"
   ]
  },
  {
   "cell_type": "code",
   "execution_count": null,
   "metadata": {
    "collapsed": true
   },
   "outputs": [],
   "source": [
    "#8. Write a program that accepts a sentence and calculate the number of upper case \n",
    "# letters and lower case letters.\n",
    "#Suppose the following input is supplied to the program: Hello world!\n",
    "#Then, the output should be: UPPER CASE 1 LOWER CASE 9\n",
    "\n",
    "#Hints: In case of input data being supplied to the question, it should be assumed to be a console input.\n"
   ]
  },
  {
   "cell_type": "code",
   "execution_count": 26,
   "metadata": {},
   "outputs": [
    {
     "name": "stdout",
     "output_type": "stream",
     "text": [
      "Enter a sentence:\n",
      "My indian Brown Cat\n",
      "('Upper case:3', 'Lower case:13')\n"
     ]
    }
   ],
   "source": [
    "print(\"Enter a sentence:\")\n",
    "sentence=raw_input()\n",
    "count1=0\n",
    "count2=0\n",
    "for i in sentence:\n",
    "    if (i.isupper())==True:\n",
    "        count1=count1+1\n",
    "for s in sentence:\n",
    "    if (s.islower())==True:\n",
    "        count2=count2+1\n",
    "print(\"Upper case:{}\".format(count1),\"Lower case:{}\".format(count2))\n",
    "        \n",
    "        \n"
   ]
  },
  {
   "cell_type": "code",
   "execution_count": null,
   "metadata": {
    "collapsed": true
   },
   "outputs": [],
   "source": [
    "#9. A website requires the users to input username and password to register. Write a program to check the validity of password\n",
    "#input by users. Following are the criteria for checking the password:\n",
    "#1. At least 1 letter between [a-z]\n",
    "#2. At least 1 number between [0-9]\n",
    "#1. At least 1 letter between [A-Z]\n",
    "#3. At least 1 character from [$#@]\n",
    "#4. Minimum length of transaction password: 6\n",
    "#5. Maximum length of transaction password: 12\n",
    "#Your program should accept a sequence of comma separated passwords and will check them according to the above criteria. \n",
    "#Passwords that match the criteria are to be printed, each separated by a comma.\n",
    "#Example. If the following passwords are given as input to the program: ABd1234@1,a F1#,2w3E*,2We3345\n",
    "#Then, the output of the program should be: ABd1234@1\n",
    "\n",
    "# You can use module called re\n",
    "#Hints: In case of input data being supplied to the question, it should be assumed to be a console input.\n",
    "\n"
   ]
  },
  {
   "cell_type": "code",
   "execution_count": null,
   "metadata": {},
   "outputs": [],
   "source": [
    "import re\n",
    "list=[]\n",
    "list = input(\"enter the passwords:\").split(\",\")\n",
    "b = []\n",
    "flag=0\n",
    "for p in list:\n",
    "    flag=0\n",
    "    if len(p)<6 or len(p)>12:\n",
    "        flag=-1\n",
    "    elif not re.search(\"[0-9]\",p):\n",
    "        flag=-1\n",
    "    elif not re.search(\"[A-Z]\",p):\n",
    "        flag=-1\n",
    "    elif not re.search(\"[a-z]\",p):\n",
    "        flag=-1\n",
    "    elif not re.search(\"[$@#]\",p):\n",
    "        flag=-1\n",
    "    else: \n",
    "        b.append(p)\n",
    "print(b)\n",
    " \n",
    "\n",
    "    \n",
    "                   "
   ]
  },
  {
   "cell_type": "code",
   "execution_count": null,
   "metadata": {},
   "outputs": [],
   "source": []
  },
  {
   "cell_type": "code",
   "execution_count": 12,
   "metadata": {},
   "outputs": [],
   "source": [
    "#10. Python has many built-in functions, and if you do not know how to use it, you can read document online or find some books.\n",
    "#But Python has a built-in document function for every built-in functions.\n",
    "#Please write a program to print some Python built-in functions documents, such as abs(), int(), raw_input()\n",
    "#And add document for your own function\n",
    "    \n",
    "#Hints: The built-in document method is __doc__\n"
   ]
  },
  {
   "cell_type": "code",
   "execution_count": 31,
   "metadata": {},
   "outputs": [
    {
     "name": "stdout",
     "output_type": "stream",
     "text": [
      "Return the absolute value of the argument.\n",
      "int([x]) -> integer\n",
      "int(x, base=10) -> integer\n",
      "\n",
      "Convert a number or string to an integer, or return 0 if no arguments\n",
      "are given.  If x is a number, return x.__int__().  For floating point\n",
      "numbers, this truncates towards zero.\n",
      "\n",
      "If x is not a number or if base is given, then x must be a string,\n",
      "bytes, or bytearray instance representing an integer literal in the\n",
      "given base.  The literal can be preceded by '+' or '-' and be surrounded\n",
      "by whitespace.  The base defaults to 10.  Valid bases are 0 and 2-36.\n",
      "Base 0 means to interpret the base from the string as an integer literal.\n",
      ">>> int('0b100', base=0)\n",
      "4\n"
     ]
    },
    {
     "data": {
      "text/plain": [
       "'Calculates the square of a number inputted by a user '"
      ]
     },
     "execution_count": 31,
     "metadata": {},
     "output_type": "execute_result"
    }
   ],
   "source": [
    "print (abs.__doc__)\n",
    "print (int.__doc__)\n",
    "#raw_input is not valid in python 3\n",
    "\n",
    "def square_function(x):\n",
    "    '''Calculates the square of a number inputted by a user '''\n",
    "    print(\"Enter an integer:\")\n",
    "    x=input()\n",
    "    p=int(x)\n",
    "    s=p*p\n",
    "    return(s)    \n",
    "\n",
    "    \n",
    "square_function.__doc__"
   ]
  },
  {
   "cell_type": "markdown",
   "metadata": {},
   "source": []
  },
  {
   "cell_type": "code",
   "execution_count": null,
   "metadata": {},
   "outputs": [],
   "source": []
  },
  {
   "cell_type": "code",
   "execution_count": null,
   "metadata": {},
   "outputs": [],
   "source": [
    "\n"
   ]
  },
  {
   "cell_type": "code",
   "execution_count": null,
   "metadata": {},
   "outputs": [],
   "source": [
    "\n"
   ]
  },
  {
   "cell_type": "code",
   "execution_count": null,
   "metadata": {},
   "outputs": [],
   "source": []
  }
 ],
 "metadata": {
  "kernelspec": {
   "display_name": "Python 3",
   "language": "python",
   "name": "python3"
  },
  "language_info": {
   "codemirror_mode": {
    "name": "ipython",
    "version": 3
   },
   "file_extension": ".py",
   "mimetype": "text/x-python",
   "name": "python",
   "nbconvert_exporter": "python",
   "pygments_lexer": "ipython3",
   "version": "3.7.3"
  }
 },
 "nbformat": 4,
 "nbformat_minor": 2
}
